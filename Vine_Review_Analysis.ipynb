{
 "cells": [
  {
   "cell_type": "code",
   "execution_count": 39,
   "metadata": {},
   "outputs": [],
   "source": [
    "import pandas as pd\n",
    "from path import Path\n",
    "\n",
    "file_path = Path(\"vine_table.csv\")\n",
    "df = pd.read_csv(file_path)"
   ]
  },
  {
   "cell_type": "code",
   "execution_count": 40,
   "metadata": {},
   "outputs": [],
   "source": [
    "high_vote_df = df[df['total_votes'] >= 20]"
   ]
  },
  {
   "cell_type": "code",
   "execution_count": 41,
   "metadata": {},
   "outputs": [],
   "source": [
    "helpful_votes_df = high_vote_df[(high_vote_df['helpful_votes']/high_vote_df['total_votes'])>=0.5]"
   ]
  },
  {
   "cell_type": "code",
   "execution_count": 42,
   "metadata": {},
   "outputs": [],
   "source": [
    "vine_cleaned_df = helpful_votes_df[helpful_votes_df['vine']== 'Y'] "
   ]
  },
  {
   "cell_type": "code",
   "execution_count": 43,
   "metadata": {},
   "outputs": [],
   "source": [
    "not_vine_cleaned_df = helpful_votes_df[helpful_votes_df['vine']== 'N']"
   ]
  },
  {
   "cell_type": "code",
   "execution_count": 32,
   "metadata": {},
   "outputs": [],
   "source": [
    "# total number of reviews for vine\n",
    "total_vine = vine_cleaned_df.count()"
   ]
  },
  {
   "cell_type": "code",
   "execution_count": 44,
   "metadata": {},
   "outputs": [
    {
     "data": {
      "text/plain": [
       "review_id             object\n",
       "star_rating          float64\n",
       "helpful_votes        float64\n",
       "total_votes          float64\n",
       "vine                  object\n",
       "verified_purchase     object\n",
       "dtype: object"
      ]
     },
     "execution_count": 44,
     "metadata": {},
     "output_type": "execute_result"
    }
   ],
   "source": [
    "vine_cleaned_df.dtypes"
   ]
  },
  {
   "cell_type": "code",
   "execution_count": 45,
   "metadata": {},
   "outputs": [],
   "source": [
    "# total number of 5-star reviews for vine\n",
    "five_vine = vine_cleaned_df[vine_cleaned_df['star_rating']==5].count()"
   ]
  },
  {
   "cell_type": "code",
   "execution_count": 46,
   "metadata": {},
   "outputs": [
    {
     "data": {
      "text/plain": [
       "review_id            0.47619\n",
       "star_rating          0.47619\n",
       "helpful_votes        0.47619\n",
       "total_votes          0.47619\n",
       "vine                 0.47619\n",
       "verified_purchase    0.47619\n",
       "dtype: float64"
      ]
     },
     "execution_count": 46,
     "metadata": {},
     "output_type": "execute_result"
    }
   ],
   "source": [
    "#percentage of 5-star reviews for vine \n",
    "five_vine/total_vine\n",
    "# 47.6%"
   ]
  },
  {
   "cell_type": "code",
   "execution_count": 47,
   "metadata": {},
   "outputs": [],
   "source": [
    "# total number of reviews for non-vine\n",
    "total_not_vine = not_vine_cleaned_df.count()"
   ]
  },
  {
   "cell_type": "code",
   "execution_count": 48,
   "metadata": {},
   "outputs": [],
   "source": [
    "# total number of 5-star reviews for non-vine\n",
    "five_not_vine = not_vine_cleaned_df[not_vine_cleaned_df['star_rating']==5].count()"
   ]
  },
  {
   "cell_type": "code",
   "execution_count": 49,
   "metadata": {},
   "outputs": [
    {
     "data": {
      "text/plain": [
       "review_id            0.515396\n",
       "star_rating          0.515396\n",
       "helpful_votes        0.515396\n",
       "total_votes          0.515396\n",
       "vine                 0.515396\n",
       "verified_purchase    0.515396\n",
       "dtype: float64"
      ]
     },
     "execution_count": 49,
     "metadata": {},
     "output_type": "execute_result"
    }
   ],
   "source": [
    "#percentage of 5-star reviews for non-vine \n",
    "five_not_vine/total_not_vine\n",
    "# 51.5%"
   ]
  }
 ],
 "metadata": {
  "kernelspec": {
   "display_name": "PythonData",
   "language": "python",
   "name": "pythondata"
  },
  "language_info": {
   "codemirror_mode": {
    "name": "ipython",
    "version": 3
   },
   "file_extension": ".py",
   "mimetype": "text/x-python",
   "name": "python",
   "nbconvert_exporter": "python",
   "pygments_lexer": "ipython3",
   "version": "3.7.7"
  }
 },
 "nbformat": 4,
 "nbformat_minor": 4
}
